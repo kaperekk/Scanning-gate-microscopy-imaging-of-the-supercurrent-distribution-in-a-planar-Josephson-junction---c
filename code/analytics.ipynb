{
 "cells": [
  {
   "cell_type": "code",
   "execution_count": null,
   "id": "organized-lecture",
   "metadata": {},
   "outputs": [],
   "source": [
    "import ipyparallel as ipp\n",
    "cluster = ipp.Client()"
   ]
  },
  {
   "cell_type": "code",
   "execution_count": null,
   "id": "armed-petersburg",
   "metadata": {},
   "outputs": [],
   "source": [
    "v = cluster[:]\n",
    "lview = cluster.load_balanced_view()\n",
    "len(v)"
   ]
  },
  {
   "cell_type": "code",
   "execution_count": null,
   "id": "natural-ensemble",
   "metadata": {},
   "outputs": [],
   "source": [
    "%%px --local\n",
    "\n",
    "import os\n",
    "try:\n",
    "    import mkl\n",
    "    mkl.set_num_threads(1)\n",
    "except:\n",
    "    pass\n",
    "\n",
    "os.environ['OPENBLAS_NUM_THREADS'] = \"1\"\n",
    "os.environ['OMP_NUM_THREADS'] = \"1\""
   ]
  },
  {
   "cell_type": "markdown",
   "id": "broke-therapy",
   "metadata": {},
   "source": [
    " # Import necessary liblaries"
   ]
  },
  {
   "cell_type": "code",
   "execution_count": null,
   "id": "certain-musician",
   "metadata": {},
   "outputs": [],
   "source": [
    "%%px --local\n",
    "\n",
    "import scipy.linalg as la\n",
    "import kwant\n",
    "import tinyarray\n",
    "import numpy as np\n",
    "import matplotlib.pyplot as plt\n",
    "import types\n",
    "from scipy.constants import physical_constants\n",
    "from scipy.signal import argrelextrema\n",
    "import tinyarray\n",
    "from ipywidgets import interact\n",
    "plt.rcParams.update({'font.size': 25})"
   ]
  },
  {
   "cell_type": "code",
   "execution_count": null,
   "id": "egyptian-sponsorship",
   "metadata": {},
   "outputs": [],
   "source": [
    "import adaptive\n",
    "adaptive.notebook_extension()\n",
    "import pandas as pd"
   ]
  },
  {
   "cell_type": "code",
   "execution_count": null,
   "id": "senior-exercise",
   "metadata": {},
   "outputs": [],
   "source": [
    "%%px --local\n",
    "\n",
    "val_hJ= 6.62607004e-34 #value in J\n",
    "val_e = physical_constants['elementary charge'][0]\n",
    "val_hbar = physical_constants['Planck constant over 2 pi in eV s'][0]\n",
    "val_m0 = physical_constants['electron mass energy equivalent in MeV'][0]\n",
    "Phi_0=2.067*1e-15 \n",
    "c = physical_constants['speed of light in vacuum'][0]\n",
    "val_m0 = val_m0 / (c*10**9)**2 * 10**6 # [eV * s**2 / nm**2]\n",
    "m=0.014\n",
    "val_hbarJ = physical_constants['Planck constant over 2 pi'][0]*1e18 # in nm\n",
    "mi_b= physical_constants['Bohr magneton in eV/T'][0]\n",
    "\n",
    "sigma_0 = tinyarray.array([[1,0],[0,1]])   \n",
    "sigma_x = tinyarray.array([[0,1],[1,0]])\n",
    "sigma_y = tinyarray.array([[0,-1.j],[1.j,0]])\n",
    "sigma_z = tinyarray.array([[1,0],[0,-1]])\n",
    "\n",
    "tau_0 = tinyarray.array([[1,0],[0,1]]) \n",
    "tau_x = tinyarray.array([[0, 1], [1, 0]])\n",
    "tau_y = tinyarray.array([[0, -1j], [1j, 0]])\n",
    "tau_z = tinyarray.array([[1, 0], [0, -1]])\n",
    "\n",
    "trs_m = -1j*sigma_y "
   ]
  },
  {
   "cell_type": "code",
   "execution_count": null,
   "id": "defined-gathering",
   "metadata": {},
   "outputs": [],
   "source": [
    "%%px --local\n",
    "\n",
    "J_max=1\n",
    "dx=10\n",
    "par = types.SimpleNamespace(dx=dx,\n",
    "                            L=200, #lenght\n",
    "                            W=1000, #width\n",
    "                            t=val_hbar**2/val_m0/m/dx**2/2, \n",
    "                            V_value=  1, #potential energy of a tip\n",
    "                            tip=50, # effective size of tip potential\n",
    "                            mi=40e-3, # chemical potential\n",
    "                            B=0, #magnetic field in Z direction\n",
    "                            phi=0, #phase\n",
    "                            xt=0) # xtip position"
   ]
  },
  {
   "cell_type": "code",
   "execution_count": null,
   "id": "renewable-baseline",
   "metadata": {},
   "outputs": [],
   "source": [
    "%%px --local\n",
    "\n",
    "sc_flux_quantum = 2.067833848*1e-15\n",
    "L = par.L*1e-9\n",
    "W = par.W*1e-9\n",
    "B_period = sc_flux_quantum/L/W*1e3"
   ]
  },
  {
   "cell_type": "markdown",
   "id": "inclusive-beach",
   "metadata": {},
   "source": [
    "# Base supercurrent distribution with tip"
   ]
  },
  {
   "cell_type": "code",
   "execution_count": null,
   "id": "focal-bearing",
   "metadata": {},
   "outputs": [],
   "source": [
    "%%px --local \n",
    "\n",
    "def J_S0(x,par): # J_S is supercurrent distribution \n",
    "    if -par.W/2<=x<par.W/2 :\n",
    "        return J_max- par.V_value/(1+( (x-par.xt)**2 )/par.tip**2)\n",
    "    else:\n",
    "        return 0"
   ]
  },
  {
   "cell_type": "code",
   "execution_count": null,
   "id": "corporate-liability",
   "metadata": {},
   "outputs": [],
   "source": [
    "x_tab = np.arange(-par.W/2-20,par.W/2+20,1)\n",
    "I=[]\n",
    "par.V_value=1\n",
    "for x in x_tab:\n",
    "    I.append( J_S0(x,par) )\n",
    "    \n",
    "fig, ax1 = plt.subplots(figsize=(10,5))\n",
    "plt.plot(x_tab,I,'k',linewidth=4)\n",
    "plt.fill(x_tab,I,'r')\n",
    "plt.xlim(-520,520)\n",
    "plt.grid()\n",
    "plt.xlabel(\"$ x $ [nm]\")\n",
    "plt.ylabel(\" $J$ $[J_0]$\")\n",
    "#plt.savefig(\"J0.pdf\")"
   ]
  },
  {
   "cell_type": "markdown",
   "id": "computational-investigator",
   "metadata": {},
   "source": [
    "# gamma-- effective phase diffrence"
   ]
  },
  {
   "cell_type": "code",
   "execution_count": null,
   "id": "baking-halloween",
   "metadata": {},
   "outputs": [],
   "source": [
    "%%px --local\n",
    "\n",
    "def gamma(x,par): # overall phase diffrence\n",
    "    integral=0\n",
    "    dy=par.dx\n",
    "    for y in np.arange(0,par.L,dy) :\n",
    "        integral+=  x*dy \n",
    "    return par.phi+par.B*integral *  2*np.pi/Phi_0 *1e-18  "
   ]
  },
  {
   "cell_type": "code",
   "execution_count": null,
   "id": "civilian-clock",
   "metadata": {},
   "outputs": [],
   "source": [
    "%%px --local\n",
    "\n",
    "def curr_dist(x,par):\n",
    "    return J_S0(x,par) * np.sin(gamma(x,par))"
   ]
  },
  {
   "cell_type": "code",
   "execution_count": null,
   "id": "banned-supply",
   "metadata": {},
   "outputs": [],
   "source": [
    "%%px --local\n",
    "\n",
    "def B_I_c(par,B): #\n",
    "    # Given parameters par and magnetic field B, returns value of critical current \n",
    "    par.B=B\n",
    "    I=[]\n",
    "    for phi in np.linspace(0,2*np.pi,200):\n",
    "        par.phi=phi\n",
    "        value=0\n",
    "        d=10\n",
    "        for x in np.arange(-par.W/2,par.W/2,d):\n",
    "            value+= curr_dist(x,par) *d\n",
    "            \n",
    "        I.append( value )\n",
    "        Ic = max(I)\n",
    "    return Ic"
   ]
  },
  {
   "cell_type": "code",
   "execution_count": null,
   "id": "informative-fighter",
   "metadata": {},
   "outputs": [],
   "source": [
    "par.V_value=0\n",
    "out=[]\n",
    "N =5 # N=100\n",
    "phi_tab = np.linspace(0,2*np.pi,N)\n",
    "B_tab=np.linspace(-50e-3,50e-3,N)\n",
    "x_tab = np.arange(-par.W/2-1,par.W/2+1,1)\n",
    "\n",
    "# For diffrent magnetic field, we find that phi value which gives critical current and then\n",
    "# I save that curent distribution\n",
    "for B in B_tab:\n",
    "    par.B=B\n",
    "    I=[]\n",
    "    for phi in phi_tab:\n",
    "        par.phi=phi\n",
    "        values=[]\n",
    "\n",
    "        for x in x_tab:\n",
    "            values.append(curr_dist(x,par) )\n",
    "        I.append(sum(values))\n",
    "\n",
    "\n",
    "    par.phi=phi_tab[ np.argmax(I)]\n",
    "    values=[]\n",
    "    x_tab = np.arange(-par.W/2-1,par.W/2+1,1)\n",
    "    for x in x_tab:\n",
    "        values.append(curr_dist(x,par) )\n",
    "    out.append(values)\n"
   ]
  },
  {
   "cell_type": "markdown",
   "id": "spanish-cisco",
   "metadata": {},
   "source": [
    " # overwrites data\n",
    "pd.DataFrame(out ).to_pickle('analytics_supercurrent_distribution_map.pkl')    #to save the dataframe, df to *.pkl\n",
    "\n"
   ]
  },
  {
   "cell_type": "code",
   "execution_count": null,
   "id": "adverse-stocks",
   "metadata": {},
   "outputs": [],
   "source": [
    "out  = pd.read_pickle('analytics_supercurrent_distribution_map.pkl')\n",
    "\n",
    "fig, ax = plt.subplots(1, figsize=(16,8))\n",
    "im = ax.imshow( out , cmap='seismic', aspect='auto',vmax=1,vmin=-1, \\\n",
    "          extent=[-501,501,-4.9,4.9])\n",
    "\n",
    "ax.set_xlabel(\"$x$  [nm]\")\n",
    "ax.set_ylabel(\"$\\Phi$  [$\\Phi_0$]\")\n",
    "cbar = plt.colorbar(im)\n",
    "cbar.set_label('$J $ $[J_{0}]$ ')\n",
    "#plt.savefig('analytics_supercurrent_distribution_map.pdf')\n",
    "plt.show()"
   ]
  },
  {
   "cell_type": "markdown",
   "id": "reasonable-shell",
   "metadata": {},
   "source": [
    "# Fig 4(b) red"
   ]
  },
  {
   "cell_type": "code",
   "execution_count": null,
   "id": "latest-shore",
   "metadata": {},
   "outputs": [],
   "source": [
    "%%px --local\n",
    "\n",
    "# tip in x_tip = 0\n",
    "par.V_value=1\n",
    "par.xt=0"
   ]
  },
  {
   "cell_type": "code",
   "execution_count": null,
   "id": "retained-cycle",
   "metadata": {},
   "outputs": [],
   "source": [
    "# FP\n",
    "N=300\n",
    "B_range=np.linspace(-50e-3,50e-3,N)\n",
    "out1 = lview.map_async(lambda B :B_I_c(par=par,B=B) , B_range)\n",
    "out1.wait_interactive()\n",
    "data1 = out1.get()"
   ]
  },
  {
   "cell_type": "markdown",
   "id": "applicable-jerusalem",
   "metadata": {},
   "source": [
    " # Fig 4(b) black"
   ]
  },
  {
   "cell_type": "code",
   "execution_count": null,
   "id": "valid-snapshot",
   "metadata": {},
   "outputs": [],
   "source": [
    "%%px --local\n",
    "\n",
    "# tip in x_tip = 600 (Outside Junction)\n",
    "par.V_value=1\n",
    "par.xt=600"
   ]
  },
  {
   "cell_type": "code",
   "execution_count": null,
   "id": "modified-registrar",
   "metadata": {},
   "outputs": [],
   "source": [
    "out2 = lview.map_async(lambda B :B_I_c(par=par,B=B) , B_range)\n",
    "out2.wait_interactive()\n",
    "data2 = out2.get()"
   ]
  },
  {
   "cell_type": "code",
   "execution_count": null,
   "id": "responsible-deployment",
   "metadata": {},
   "outputs": [],
   "source": [
    "fig, ax1 = plt.subplots(figsize=(16,10))\n",
    "ax1.set_xlabel(\"$ \\Phi $ [$\\Phi_0$]\")\n",
    "ax1.set_ylabel('$I_{c}$ [$J_0$W]')\n",
    "# 50 mT = 4.84 \\Phi_0 \n",
    "lns1=ax1.plot(np.linspace(-4.84,4.84,N),np.array(data2),'k',label='$x_{tip}=600$ $nm$')\n",
    "lns2=ax1.plot(np.linspace(-4.84,4.84,N),np.array(data1),'r',label='$x_{tip}=0$')\n",
    "ax1.tick_params(axis='y',labelcolor='k')\n",
    "plt.ylim(0,1000)\n",
    "# added these two lines\n",
    "lns = lns1+lns2\n",
    "labs = [l.get_label() for l in lns]\n",
    "plt.legend(lns, labs, loc=0)\n",
    "plt.xticks(np.arange(-5,5,1))\n",
    "plt.xlim(-4.84,4.84)\n",
    "plt.grid()\n",
    "plt.savefig('fig_4b.pdf')\n",
    "plt.show()"
   ]
  },
  {
   "cell_type": "code",
   "execution_count": null,
   "id": "early-piece",
   "metadata": {},
   "outputs": [],
   "source": [
    "%%px --local\n",
    "\n",
    "def Ic_vs_xtB(par,B,xt): # calculates Ic in function of magnetic Field and x_tip position\n",
    "    par.xt=xt\n",
    "    par.B=B\n",
    "    Ic=[]\n",
    "    for phi in np.linspace(0,2*np.pi,150):\n",
    "        par.phi=phi\n",
    "        value=0\n",
    "        d=10\n",
    "        for x in np.arange(-par.W/2,par.W/2,d):\n",
    "            value+= curr_dist(x,par) *d\n",
    "            \n",
    "        Ic.append( value )\n",
    "        \n",
    "    return max(Ic)"
   ]
  },
  {
   "cell_type": "code",
   "execution_count": null,
   "id": "institutional-harrison",
   "metadata": {},
   "outputs": [],
   "source": [
    "learner = adaptive.Learner2D(lambda xtB :Ic_vs_xtB(par, B=xtB[1], xt =  xtB[0]), bounds=[(-par.W/2-100,par.W/2+100),(-0.05,0.05)])\n",
    "runner = adaptive.Runner(learner, executor=cluster, goal=lambda l: l.loss() < 0.001)\n",
    "runner.live_info()"
   ]
  },
  {
   "cell_type": "markdown",
   "id": "clear-tonight",
   "metadata": {},
   "source": [
    " # overwrites data\n",
    "pd.DataFrame(learner.plot().image.I.data ).to_pickle('analytics_Ic_xtB_map.pkl')    #to save the dataframe, df to *.pkl\n"
   ]
  },
  {
   "cell_type": "code",
   "execution_count": null,
   "id": "impressed-analyst",
   "metadata": {},
   "outputs": [],
   "source": [
    "out  = pd.read_pickle('analytics_Ic_xtB_map.pkl')\n",
    "\n",
    "fig, ax = plt.subplots(1, figsize=(16,8))\n",
    "im = ax.imshow( out , cmap='inferno', aspect='auto', \\\n",
    "          extent=[-600,600,-4.9,4.9])\n",
    "\n",
    "\n",
    "ax.set_xlabel(\"$x_{tip}$  [nm]\")\n",
    "ax.set_ylabel(\"$\\Phi$  [$\\Phi_0$]\")\n",
    "cbar = plt.colorbar(im)\n",
    "cbar.set_label('$I_{c}$ [$J_0$W]')\n",
    "### to plot lines \n",
    "for i in range(-4,5):\n",
    "    x = [-600, 600]\n",
    "    t = i*B_period/10.3\n",
    "    y = [t,t]\n",
    "    plt.plot(x, y, color=\"white\", linewidth=1.5)\n",
    "    \n",
    "plt.plot([0,0],[-4.9,4.9], color=\"white\", linewidth=2.5)\n",
    "plt.plot([598,598],[-4.9,4.9], color=\"white\", linewidth=1.1)\n",
    "for i in [-500,500]:\n",
    "    y = [-4.9, 4.9]\n",
    "    t = i\n",
    "    x = [t,t]\n",
    "    plt.plot(x, y, '--w', linewidth=1.1)\n",
    "\n",
    "###\n",
    "#plt.savefig(\"Fig4b.pdf\")\n",
    "plt.show()"
   ]
  },
  {
   "cell_type": "markdown",
   "id": "committed-intersection",
   "metadata": {},
   "source": [
    "# Supercurrent distribution FIG 5(a)"
   ]
  },
  {
   "cell_type": "code",
   "execution_count": null,
   "id": "chemical-aggregate",
   "metadata": {},
   "outputs": [],
   "source": [
    "par.V_value=1\n",
    "par.phi=1*np.pi/2\n",
    "par.B=B_period*1e-3*.5\n",
    "\n",
    "values=[]\n",
    "x_tab = np.arange(-par.W/2-1,par.W/2+1,1)\n",
    "for x in x_tab:\n",
    "    values.append(curr_dist(x,par) )\n",
    "plt.figure(figsize=(10,6))\n",
    "plt.plot(x_tab,np.array(values)/J_max,'k',linewidth=4)\n",
    "\n",
    "plt.xlabel(\"$ x $ [nm]\")\n",
    "plt.ylabel(\" J $[J_0]$\")\n",
    "plt.grid()\n",
    "plt.ylim(-1,1)\n",
    "plt.xlim(-501,501)\n",
    "#plt.savefig('fig3a.pdf')\n",
    "plt.show()"
   ]
  },
  {
   "cell_type": "markdown",
   "id": "chinese-studio",
   "metadata": {},
   "source": [
    "# FIG 5(b)"
   ]
  },
  {
   "cell_type": "code",
   "execution_count": null,
   "id": "affecting-wilderness",
   "metadata": {},
   "outputs": [],
   "source": [
    "par.V_value=1\n",
    "par.phi=-1*np.pi/2\n",
    "par.B=B_period*1e-3\n",
    "\n",
    "values=[]\n",
    "x_tab = np.arange(-par.W/2-1,par.W/2+1,1)\n",
    "for x in x_tab:\n",
    "    values.append(curr_dist(x,par) )\n",
    "plt.figure(figsize=(10,6))\n",
    "plt.plot(x_tab,np.array(values)/J_max,'k',linewidth=4)\n",
    "\n",
    "plt.xlabel(\"$ x $ [nm]\")\n",
    "plt.ylabel(\" J $[J_0]$\")\n",
    "plt.grid()\n",
    "plt.ylim(-1,1)\n",
    "plt.xlim(-501,501)\n",
    "#plt.savefig('fig3a.pdf')\n",
    "plt.show()"
   ]
  },
  {
   "cell_type": "markdown",
   "id": "supported-railway",
   "metadata": {},
   "source": [
    " # FIG 5(c)"
   ]
  },
  {
   "cell_type": "code",
   "execution_count": null,
   "id": "extraordinary-hollywood",
   "metadata": {
    "scrolled": false
   },
   "outputs": [],
   "source": [
    "par.xt=200\n",
    "par.V_value=1\n",
    "par.phi=-0.9*np.pi\n",
    "par.B=B_period*1e-3\n",
    "\n",
    "values=[]\n",
    "x_tab = np.arange(-par.W/2-1,par.W/2+1,1)\n",
    "for x in x_tab:\n",
    "    values.append(curr_dist(x,par) )\n",
    "plt.figure(figsize=(10,6))\n",
    "plt.plot(x_tab,np.array(values)/J_max,'k',linewidth=4)\n",
    "\n",
    "plt.xlabel(\"$ x $ [nm]\")\n",
    "plt.ylabel(\" J $[J_0]$\")\n",
    "plt.grid()\n",
    "plt.ylim(-1,1)\n",
    "plt.xlim(-501,501)\n",
    "#plt.savefig('fig_e.pdf')"
   ]
  },
  {
   "cell_type": "markdown",
   "id": "significant-europe",
   "metadata": {},
   "source": [
    " # FIG 5(d)"
   ]
  },
  {
   "cell_type": "code",
   "execution_count": null,
   "id": "infinite-nursery",
   "metadata": {},
   "outputs": [],
   "source": [
    "par.xt=0\n",
    "par.V_value=1\n",
    "par.phi=-np.pi/2\n",
    "par.B=B_period*1e-3*1.5\n",
    "\n",
    "values=[]\n",
    "x_tab = np.arange(-par.W/2-1,par.W/2+1,1)\n",
    "for x in x_tab:\n",
    "    values.append(curr_dist(x,par) )\n",
    "plt.figure(figsize=(10,6))\n",
    "plt.plot(x_tab,np.array(values)/J_max,'k',linewidth=4)\n",
    "\n",
    "plt.xlabel(\"$ x $ [nm]\")\n",
    "plt.ylabel(\" J $[J_0]$\")\n",
    "plt.grid()\n",
    "plt.ylim(-1,1)\n",
    "plt.xlim(-501,501)\n",
    "\n",
    "#plt.savefig('fig3c.pdf')\n",
    "plt.show()"
   ]
  },
  {
   "cell_type": "markdown",
   "id": "scientific-slovakia",
   "metadata": {},
   "source": [
    " # FIG 5(e)"
   ]
  },
  {
   "cell_type": "code",
   "execution_count": null,
   "id": "photographic-flashing",
   "metadata": {},
   "outputs": [],
   "source": [
    "par.xt=0\n",
    "par.V_value=1\n",
    "par.phi=np.pi/2\n",
    "par.B=B_period*1e-3 *2.5\n",
    "\n",
    "values=[]\n",
    "x_tab = np.arange(-par.W/2-1,par.W/2+1,1)\n",
    "for x in x_tab:\n",
    "    values.append(curr_dist(x,par) )\n",
    "plt.figure(figsize=(10,6))\n",
    "plt.plot(x_tab,np.array(values)/J_max,'k',linewidth=4)\n",
    "\n",
    "plt.xlabel(\"$ x $ [nm]\")\n",
    "plt.ylabel(\" J $[J_0]$\")\n",
    "plt.grid()\n",
    "plt.ylim(-1,1)\n",
    "plt.xlim(-501,501)\n",
    "#plt.savefig('fig3f.pdf')\n",
    "plt.show()"
   ]
  },
  {
   "cell_type": "markdown",
   "id": "adjusted-fantasy",
   "metadata": {},
   "source": [
    "# FIG 6(a)"
   ]
  },
  {
   "cell_type": "code",
   "execution_count": null,
   "id": "paperback-boundary",
   "metadata": {},
   "outputs": [],
   "source": [
    "%%px --local\n",
    "\n",
    "par.V_value=1\n",
    "par.B=B_period*1e-3 *1.5\n",
    "xt_range=np.linspace(-600,600,200)"
   ]
  },
  {
   "cell_type": "markdown",
   "id": "enabling-original",
   "metadata": {},
   "source": [
    "# $\\Phi = 1.5 \\Phi_0$"
   ]
  },
  {
   "cell_type": "code",
   "execution_count": null,
   "id": "demanding-inspector",
   "metadata": {},
   "outputs": [],
   "source": [
    "out2 = lview.map_async(lambda xt :Ic_vs_xtB(par=par,B=B_period*1.5e-3,xt=xt) , xt_range)\n",
    "out2.wait_interactive()\n",
    "data = out2.get()\n",
    "temp = Ic_vs_xtB(par=par,B=B_period*1.5e-3,xt=1e6) # Criticalcurrent when there is no tip\n",
    "data = np.array(data)- temp"
   ]
  },
  {
   "cell_type": "markdown",
   "id": "neutral-penny",
   "metadata": {},
   "source": [
    "# $\\Phi =  \\Phi_0$"
   ]
  },
  {
   "cell_type": "code",
   "execution_count": null,
   "id": "brazilian-moisture",
   "metadata": {},
   "outputs": [],
   "source": [
    "out2 = lview.map_async(lambda xt :Ic_vs_xtB(par=par,B=B_period*1e-3,xt=xt) , xt_range)\n",
    "out2.wait_interactive()\n",
    "data2 = out2.get()\n",
    "temp2 = Ic_vs_xtB(par=par,B=B_period*1e-3,xt=1e6) # Criticalcurrent when there is no tip\n",
    "data2 = np.array(data2)- temp2"
   ]
  },
  {
   "cell_type": "code",
   "execution_count": null,
   "id": "quality-invite",
   "metadata": {
    "scrolled": false
   },
   "outputs": [],
   "source": [
    "fig, ax = plt.subplots(figsize=[16, 8])\n",
    "plt.plot(xt_range,np.array(data2),'r',label = '$\\Phi =  \\Phi_0$')\n",
    "plt.plot(xt_range,np.array(data),'k',label = '$\\Phi = 1.5\\Phi_0$')\n",
    "\n",
    "plt.xlabel(\"$ x_{tip} $ [nm]\")\n",
    "plt.ylabel(\"$I_c - I_{c0}$ [$J_0 $]\")\n",
    "plt.grid()\n",
    "plt.xlim(-600,600)\n",
    "plt.legend()\n",
    "#plt.savefig(\"Ic_vs_xtip_a.pdf\")\n",
    "plt.show()"
   ]
  },
  {
   "cell_type": "code",
   "execution_count": null,
   "id": "adjusted-lindsay",
   "metadata": {},
   "outputs": [],
   "source": [
    "%%px --local\n",
    "\n",
    "def phi_vs_xtB(par,B,xt): # returns phi, that gives critical current in function of B,x_tip\n",
    "    par.xt=xt\n",
    "    par.B=B\n",
    "    Ic=[]\n",
    "    phitab= np.linspace(-np.pi,np.pi,100)\n",
    "    for phi in phitab:\n",
    "        par.phi=phi\n",
    "        value=0\n",
    "        d=10\n",
    "        for x in np.arange(-par.W/2,par.W/2,d):\n",
    "            value+= curr_dist(x,par) *d\n",
    "        Ic.append( value )\n",
    "    return phitab[np.argmax(Ic)]"
   ]
  },
  {
   "cell_type": "markdown",
   "id": "superb-miami",
   "metadata": {},
   "source": [
    " # FIG 6(b)"
   ]
  },
  {
   "cell_type": "code",
   "execution_count": null,
   "id": "generous-shell",
   "metadata": {},
   "outputs": [],
   "source": [
    "learner = adaptive.Learner2D(lambda xtB :phi_vs_xtB(par, B=xtB[1], xt =  xtB[0]), bounds=[(-par.W/2-100,par.W/2+100),(-0.05,0.05)])\n",
    "runner = adaptive.Runner(learner, executor=cluster, goal=lambda l: l.loss() < 0.02)\n",
    "runner.live_info()"
   ]
  },
  {
   "cell_type": "markdown",
   "id": "muslim-launch",
   "metadata": {},
   "source": [
    " # overwrites data\n",
    "pd.DataFrame(learner.plot().image.I.data ).to_pickle('Phase_difference_versus_flux_and_the_tip_position.pkl')    #to save the dataframe, df to *.pkl\n"
   ]
  },
  {
   "cell_type": "code",
   "execution_count": null,
   "id": "atmospheric-objective",
   "metadata": {},
   "outputs": [],
   "source": [
    "out  = pd.read_pickle('Phase_difference_versus_flux_and_the_tip_position.pkl')\n",
    "\n",
    "fig, ax = plt.subplots(1, figsize=(16,8))\n",
    "im = ax.imshow( out/np.pi , cmap='seismic', aspect='auto',vmax=1,vmin=-1, \\\n",
    "          extent=[-600,600,-4.9,4.9])\n",
    "\n",
    "ax.set_xlabel(\"$x_{tip}$  [nm]\")\n",
    "ax.set_ylabel(\"$\\Phi$  [$\\Phi_0$]\")\n",
    "cbar = plt.colorbar(im)\n",
    "cbar.set_label('$\\phi$  $[\\pi]$ ')\n",
    "### to plot lines\n",
    "for i in range(-4,5):\n",
    "    x = [-600, 600]\n",
    "    t = i*B_period/10.3\n",
    "    y = [t,t]\n",
    "    plt.plot(x, y, color=\"white\", linewidth=1.1)\n",
    "###\n",
    "#plt.savefig('Phase_difference_versus_flux_and_the_tip_position.pdf')\n",
    "plt.show()"
   ]
  },
  {
   "cell_type": "markdown",
   "id": "hindu-ratio",
   "metadata": {},
   "source": [
    " # New analytics with asymmetry"
   ]
  },
  {
   "cell_type": "code",
   "execution_count": null,
   "id": "protecting-oliver",
   "metadata": {},
   "outputs": [],
   "source": [
    "%%px --local\n",
    "\n",
    "def curr_dist(x,par):\n",
    "    return J_S0(x,par) * np.sin(gamma(x,par))/np.abs( np.cos(gamma(x,par)/2 ))"
   ]
  },
  {
   "cell_type": "markdown",
   "id": "military-recognition",
   "metadata": {},
   "source": [
    " # FIG 8(b)"
   ]
  },
  {
   "cell_type": "code",
   "execution_count": null,
   "id": "collectible-restriction",
   "metadata": {},
   "outputs": [],
   "source": [
    "learner = adaptive.Learner1D(lambda xt :Ic_vs_xtB(par, B=1.5e-3 * B_period , xt =  xt), bounds=(-par.W/2-100,par.W/2+100))\n",
    "runner = adaptive.Runner(learner, executor=cluster, goal=lambda l: l.loss() < 0.001)\n",
    "runner.live_info()"
   ]
  },
  {
   "cell_type": "markdown",
   "id": "limited-dividend",
   "metadata": {},
   "source": [
    " \n",
    " # overwrites data\n",
    "pd.DataFrame(learner.plot().scatter.I.data ).to_pickle('analytics_shift_new.pkl')    #to save the dataframe, df to *.pkl\n",
    "\n"
   ]
  },
  {
   "cell_type": "code",
   "execution_count": null,
   "id": "443affa5",
   "metadata": {},
   "outputs": [],
   "source": [
    "%%px --local\n",
    "par.xt = 1e6"
   ]
  },
  {
   "cell_type": "code",
   "execution_count": null,
   "id": "printable-backing",
   "metadata": {},
   "outputs": [],
   "source": [
    "a = 436.261260088964 #  B_I_c(par, B=1.5e-3 * B_period )\n",
    "data = pd.read_pickle('analytics_shift_new.pkl')\n",
    "\n",
    "plt.subplots(1, figsize=(16,8))\n",
    "plt.plot(data['x'],data['y']-a, \"k\",label =\"semiclassical\")\n",
    "plt.legend()\n",
    "plt.xlim(-600,600)\n",
    "plt.xlabel('$x_{tip}$ $[nm]$')\n",
    "plt.ylabel('$I_{c}$-$I_{c0}$ [au]')\n",
    "plt.grid()\n",
    "plt.show()"
   ]
  },
  {
   "cell_type": "code",
   "execution_count": null,
   "id": "threatened-retailer",
   "metadata": {},
   "outputs": [],
   "source": [
    "learner = adaptive.Learner2D(lambda xtB :Ic_vs_xtB(par, B=xtB[1], xt =  xtB[0]), bounds=[(-par.W/2-100,par.W/2+100),(-0.05,0.05)])\n",
    "runner = adaptive.Runner(learner, executor=cluster, goal=lambda l: l.loss() < 0.001)\n",
    "runner.live_info()"
   ]
  },
  {
   "cell_type": "markdown",
   "id": "revolutionary-capture",
   "metadata": {},
   "source": [
    " # overwrites data\n",
    "pd.DataFrame(learner.plot().image.I.data ).to_pickle('analytics_Ic_xtB_shift_map.pkl')    #to save the dataframe, df to *.pkl\n",
    "\n",
    "\n",
    "\n"
   ]
  },
  {
   "cell_type": "code",
   "execution_count": null,
   "id": "ignored-juice",
   "metadata": {},
   "outputs": [],
   "source": [
    "out  = pd.read_pickle('analytics_Ic_xtB_shift_map.pkl')\n",
    "\n",
    "fig, ax = plt.subplots(1, figsize=(16,8))\n",
    "im = ax.imshow( out , cmap='inferno', aspect='auto', \\\n",
    "          extent=[-600,600,-4.9,4.9])\n",
    "\n",
    "\n",
    "ax.set_xlabel(\"$x_{tip}$  [nm]\")\n",
    "ax.set_ylabel(\"$\\Phi$  [$\\Phi_0$]\")\n",
    "cbar = plt.colorbar(im)\n",
    "cbar.set_label('$I_c$ [$au$]')\n",
    "### to plot lines\n",
    "for i in range(-4,5):\n",
    "    x = [-600, 600]\n",
    "    t = i*B_period/10.3\n",
    "    y = [t,t]\n",
    "    plt.plot(x, y, color=\"white\", linewidth=1.5)\n",
    "    for i in [-500,500]:\n",
    "    y = [-4.9, 4.9]\n",
    "    t = i\n",
    "    x = [t,t]\n",
    "    plt.plot(x, y, '--w', linewidth=1.1)\n",
    "    ###\n",
    "#plt.savefig(\"fig.pdf\")\n",
    "plt.show()"
   ]
  }
 ],
 "metadata": {
  "kernelspec": {
   "display_name": "Python 3 (ipykernel)",
   "language": "python",
   "name": "python3"
  },
  "language_info": {
   "codemirror_mode": {
    "name": "ipython",
    "version": 3
   },
   "file_extension": ".py",
   "mimetype": "text/x-python",
   "name": "python",
   "nbconvert_exporter": "python",
   "pygments_lexer": "ipython3",
   "version": "3.9.10"
  }
 },
 "nbformat": 4,
 "nbformat_minor": 5
}
